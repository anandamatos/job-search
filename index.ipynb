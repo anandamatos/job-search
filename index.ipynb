{
 "cells": [
  {
   "cell_type": "markdown",
   "id": "0f503446",
   "metadata": {},
   "source": [
    "## **Processo de Modelagem de Dados: Identificação de Entidades, Atributos e Relacionamentos**  \n",
    "\n",
    "#### **Objetivo**:  \n",
    "Estruturando um modelo conceitual de banco de dados, identificando entidades, atributos e relacionamentos com base nos requisitos do sistema.  \n",
    "\n",
    "---\n",
    "\n",
    "### **Etapas do Processo**:  \n",
    "\n",
    "#### **1. Definição do Minimundo**  \n",
    "- **Objetivo**: Delimitar o escopo do sistema, focando nos elementos relevantes do mundo real.  \n",
    "- **Ações**:  \n",
    "  - Listar os principais conceitos/objetos envolvidos (ex.: \"Conferência\", \"Participante\", \"Artigo\").  \n",
    "  - Descartar elementos irrelevantes ao sistema.\n"
   ]
  },
  {
   "cell_type": "markdown",
   "id": "79898a15",
   "metadata": {},
   "source": [
    "#### **Perguntas-chave para guiar a modelagem**:\n",
    "\n",
    "1.  **Quem são os atores principais?**\n",
    "\n",
    "    -   Candidato (que no caso sou eu o usuario do sistema, ahco que aqui importante inserir o concetido de bath ou seja, de tempos em tempos, um numero X de aplicacoes sera feitos, baseado numa versao (github) especifica dos dados que informarei para criar curriculos, cover letters, fazer analises de adequação usuario x vaga, e num futuro, a automacao disso tudo via ferramentas de automacao e AI) \n",
    "    -   Empresas Empresas que eu candidatarei\n",
    "    -   Vagas que eu me aplicarei\n",
    "    -   Recrutadores que serão a interface com a empresa, e nesse caso, alem dos recrutadores, gestores da vagas e outros perfis hiriequicos da empresa, inclua tambe a possibilidade de ter agentes de IA como \"entrevistadores automatizados"
   ]
  },
  {
   "cell_type": "markdown",
   "id": "be730be5",
   "metadata": {},
   "source": [
    "2.  **O que deve ser rastreado sobre cada vaga?**\n",
    "\n",
    "    -   Apenas título e salário, ou também requisitos, localização, tipo (CLT/PJ)?\n",
    "    -   mesmo sabendo que o salario nunca é apresentado nas fases incias do processo, quero que tneha uma campo de salario aproximado baseado em algum app como o (glassdor, funcioarios da empresa, etc) e a faixa salarial desajada por mim\n",
    "    -   cargo, ao contrario da minha primeira tabela no notion, eu quero que todas os cargos sigam algum de padrão (ex: Nivel + Papel + Senioriade + Especialisdade  + Contexto =  Product Designer Analista Sr, Design System/E-commerce)\n",
    "    -   Responsabilidades e Atribuições\n",
    "    -   Requisitos e Qualificações\n",
    "    -   Diferenciais / Nice to Have\n",
    "    -   Soft Skills\n",
    "    -   Palavras-Chave Booleanas\n",
    "    -   Notas Explicativas:\n",
    "    -   Beneficios\n",
    "    -   Outros Infos"
   ]
  },
  {
   "cell_type": "markdown",
   "id": "374db132",
   "metadata": {},
   "source": [
    "3.  **Como os candidatos interagem com o sistema?**\n",
    "\n",
    "    -   Num primeiro momento, sendo eu o unico usauario, por tanto candidato as vagas que serao preenchida, buscarei em redes profissionais vagas do meu interesse, e iniciaria o processo de aplicacao no sistema e todos os dados necessarios para o preenchamento da vagas, sendo os dados basicamente as informacoes que estarao numa versao curricula ultra completo"
   ]
  },
  {
   "cell_type": "markdown",
   "id": "475ab32c",
   "metadata": {},
   "source": [
    "4.  **Quais dados são irrelevantes?**\n",
    "\n",
    "    -   Eu gostaria que a parte de gerenciar o contato dos recrutadores fosse o mais simples possviel, pois o pessoal é bastante ruim de feecback, e mudam de empresas constantemente, ou sao tercerizados, quando nao o proprpio dono do negocio.\n",
    "    -   Dados, anterior ao ano de formatura do segundo grau. Acho que informacoes da faculdade pra frente, sao um pouco mais relevantes, com ressalvas dependendo da senioriade da vaga ou area que aplicarei (UI, Research, Write, Front, Design System, etc)"
   ]
  },
  {
   "cell_type": "markdown",
   "id": "7d4760d2",
   "metadata": {},
   "source": [
    "### **Minimundo Atualizado para Gestão Inteligente de Busca de Vagas**  \n",
    "*(Foco em Automação, Dados Estruturados e Análise de Processos)*  \n",
    "\n",
    "---\n",
    "\n",
    "#### **Entidades Principais e Atributos**  \n",
    "1. **CANDIDATO** (Você)  \n",
    "   - **Dados Principais**:  \n",
    "     - `habilidades_tecnicas` (padronizadas: \"Figma\", \"React\", com níveis de proficiência).  \n",
    "     - `experiencia_profissional` (cargo, empresa, período, conquistas em bullets).  \n",
    "     - `pretensao_salarial` (faixa_min, faixa_max, moeda).  \n",
    "     - `github_curriculo` (URL para JSON/YAML versionado).  \n",
    "   - **Comportamento do Sistema**:  \n",
    "     - Aplicações em *batch* (métricas: `batch_id` no formato `vYYsWWDD`).  \n",
    "     - Interação com IA: `simulacoes_entrevista` (logs de respostas/feedback).  \n",
    "\n",
    "2. **VAGA**  \n",
    "   - **Estrutura Padronizada**:  \n",
    "     - `cargo`: `[Nível][Papel][Senioridade][Especialidade][Contexto]` (ex: \"PLENO|PRODUCT_DESIGNER|SENIOR|DESIGN_SYSTEM|E-COMMERCE\").  \n",
    "     - `salario_aproximado` (faixa, fonte: Glassdoor/relatos).  \n",
    "     - `requisitos`:  \n",
    "       - `hard_skills` (lista padronizada).  \n",
    "       - `soft_skills` (lista padronizada).  \n",
    "       - `diferenciais` (opcional).  \n",
    "     - `palavras_chave_booleanas` (ex: \"DESIGN_SYSTEM AND (E-COMMERCE OR SAAS)\").  \n",
    "     - `beneficios` (classificação: `flexibilidade`, `saude`, `bonus`).  \n",
    "     - `modalidade_trabalho` (PRESENCIAL, HIBRIDO, REMOTO).  \n",
    "     - `modelo_contratacao` (CLT, PJ, RJU, etc.).  \n",
    "   - **Rastreamento de Processo**:  \n",
    "     - `status` (ex: \"SCREENING\", \"ENTREVISTA_TECNICA\", \"OFFER\").  \n",
    "     - `historico_status` (timestamp + status anterior + motivo).  \n",
    "     - `eventos` (logs: mensagens RH, feedbacks, testes).  \n",
    "     - `batch_id` (ex: \"v23s5220\" = 2023, semana 52, década 20).  \n",
    "\n",
    "3. **EMPRESA**  \n",
    "   - **Dados Estratégicos**:  \n",
    "     - `setor` (TECH, FINANCEIRO, SAÚDE).  \n",
    "     - `porte` (STARTUP, MULTINACIONAL).  \n",
    "     - `reputacao` (nota_glassdoor, premios: \"GPTW\", \"FORBES\").  \n",
    "   - **Descartado**:  \n",
    "     - Contatos diretos de recrutadores (foco em automação).  \n",
    "\n",
    "4. **PROCESSO_SELETIVO** (Opcional para IA)  \n",
    "   - `etapas_automatizadas` (ex: \"CHATBOT_SCREENING\", \"TESTE_TECNICO_IA\").  \n",
    "\n",
    "---\n",
    "\n",
    "### **Exemplo Prático (Fluxo do Sistema)**  \n",
    "```text  \n",
    "1. CANDIDATO:  \n",
    "   - Dados versionados no GitHub (ex: `curriculo_v2.1.yaml`) são lidos pelo sistema.  \n",
    "   - Aplicação em batch (10 vagas/semana) com `batch_id = v24s0110`.  \n",
    "\n",
    "2. VAGA:  \n",
    "   - Descrição padronizada:  \n",
    "     cargo = \"PLENO|UX_WRITER|SENIOR|TECH|SAAS\",  \n",
    "     salario_aproximado = \"R$ 8.000-10.000 (Glassdoor)\".  \n",
    "   - Rastreamento:  \n",
    "     status = \"ENTREVISTA_TECNICA\" (atualizado em 15/01/2024).  \n",
    "\n",
    "3. EMPRESA:  \n",
    "   - setor = \"TECH\", reputacao = \"GPTW 2023\".  \n",
    "```  \n",
    "\n",
    "---"
   ]
  },
  {
   "cell_type": "markdown",
   "id": "37fef3b8",
   "metadata": {},
   "source": [
    "#### **2. Levantamento de Requisitos**  \n",
    "- **Objetivo**: Coletar necessidades dos usuários e regras de negócio.  \n",
    "- **Técnicas**:  \n",
    "  - **Entrevistas** com stakeholders.  \n",
    "  - **Questionários** para escala ampla.  \n",
    "  - **Observação direta** de processos existentes.  \n",
    "- **Saída**: Documento com funcionalidades, restrições e dados necessários (ex.: \"Todo artigo deve ter um revisor\").  "
   ]
  }
 ],
 "metadata": {
  "language_info": {
   "name": "python"
  }
 },
 "nbformat": 4,
 "nbformat_minor": 5
}
